{
 "cells": [
  {
   "cell_type": "code",
   "execution_count": 1,
   "metadata": {},
   "outputs": [],
   "source": [
    "%matplotlib inline\n",
    "%reload_ext autoreload\n",
    "%autoreload 2"
   ]
  },
  {
   "cell_type": "code",
   "execution_count": 2,
   "metadata": {},
   "outputs": [],
   "source": [
    "from fastai.structured import *\n",
    "from fastai.column_data import *\n",
    "np.set_printoptions(threshold=50, edgeitems=20)\n",
    "\n",
    "PATH='data/Recruit/'"
   ]
  },
  {
   "cell_type": "code",
   "execution_count": 3,
   "metadata": {},
   "outputs": [],
   "source": [
    "data = {\n",
    "    'tra': pd.read_csv(f'{PATH}air_visit_data.csv'),\n",
    "    'as': pd.read_csv(f'{PATH}air_store_info.csv'),\n",
    "    'hs': pd.read_csv(f'{PATH}hpg_store_info.csv'),\n",
    "    'ar': pd.read_csv(f'{PATH}air_reserve.csv'),\n",
    "    'hr': pd.read_csv(f'{PATH}hpg_reserve.csv'),\n",
    "    'id': pd.read_csv(f'{PATH}store_id_relation.csv'),\n",
    "    'tes': pd.read_csv(f'{PATH}sample_submission.csv'),\n",
    "    'hol': pd.read_csv(f'{PATH}date_info.csv').rename(columns={'calendar_date':'visit_date'})\n",
    "    }"
   ]
  },
  {
   "cell_type": "code",
   "execution_count": 4,
   "metadata": {},
   "outputs": [],
   "source": [
    "data['hr'] = pd.merge(data['hr'], data['id'], how='inner', on=['hpg_store_id'])"
   ]
  },
  {
   "cell_type": "code",
   "execution_count": 5,
   "metadata": {},
   "outputs": [],
   "source": [
    "for df in ['ar','hr']:\n",
    "    data[df]['visit_datetime'] = pd.to_datetime(data[df]['visit_datetime'])\n",
    "    data[df]['visit_dow'] = data[df]['visit_datetime'].dt.dayofweek\n",
    "    data[df]['visit_datetime'] = data[df]['visit_datetime'].dt.date\n",
    "    data[df]['reserve_datetime'] = pd.to_datetime(data[df]['reserve_datetime'])\n",
    "    data[df]['reserve_datetime'] = data[df]['reserve_datetime'].dt.date\n",
    "    data[df]['reserve_datetime_diff'] = data[df].apply(lambda r: (r['visit_datetime'] - r['reserve_datetime']).days, axis=1)\n",
    "    # Exclude same-week reservations - from aharless kernel\n",
    "    data[df] = data[df][data[df]['reserve_datetime_diff'] > data[df]['visit_dow']]\n",
    "    tmp1 = data[df].groupby(['air_store_id','visit_datetime'], as_index=False)[['reserve_datetime_diff', 'reserve_visitors']].sum().rename(columns={'visit_datetime':'visit_date', 'reserve_datetime_diff': 'rs1', 'reserve_visitors':'rv1'})\n",
    "    tmp2 = data[df].groupby(['air_store_id','visit_datetime'], as_index=False)[['reserve_datetime_diff', 'reserve_visitors']].mean().rename(columns={'visit_datetime':'visit_date', 'reserve_datetime_diff': 'rs2', 'reserve_visitors':'rv2'})\n",
    "    data[df] = pd.merge(tmp1, tmp2, how='inner', on=['air_store_id','visit_date'])\n",
    "\n",
    "data['tra']['visit_date'] = pd.to_datetime(data['tra']['visit_date'])\n",
    "data['tra']['dow'] = data['tra']['visit_date'].dt.dayofweek\n",
    "data['tra']['year'] = data['tra']['visit_date'].dt.year\n",
    "data['tra']['month'] = data['tra']['visit_date'].dt.month\n",
    "data['tra']['visit_date'] = data['tra']['visit_date'].dt.date\n",
    "\n",
    "data['tes']['visit_date'] = data['tes']['id'].map(lambda x: str(x).split('_')[2])\n",
    "data['tes']['air_store_id'] = data['tes']['id'].map(lambda x: '_'.join(x.split('_')[:2]))\n",
    "data['tes']['visit_date'] = pd.to_datetime(data['tes']['visit_date'])\n",
    "data['tes']['dow'] = data['tes']['visit_date'].dt.dayofweek\n",
    "data['tes']['year'] = data['tes']['visit_date'].dt.year\n",
    "data['tes']['month'] = data['tes']['visit_date'].dt.month\n",
    "data['tes']['visit_date'] = data['tes']['visit_date'].dt.date\n",
    "\n",
    "unique_stores = data['tes']['air_store_id'].unique()\n",
    "stores = pd.concat([pd.DataFrame({'air_store_id': unique_stores, 'dow': [i]*len(unique_stores)}) for i in range(7)], axis=0, ignore_index=True).reset_index(drop=True)\n",
    "\n",
    "#sure it can be compressed...\n",
    "tmp = data['tra'].groupby(['air_store_id','dow'], as_index=False)['visitors'].min().rename(columns={'visitors':'min_visitors'})\n",
    "stores = pd.merge(stores, tmp, how='left', on=['air_store_id','dow']) \n",
    "tmp = data['tra'].groupby(['air_store_id','dow'], as_index=False)['visitors'].mean().rename(columns={'visitors':'mean_visitors'})\n",
    "stores = pd.merge(stores, tmp, how='left', on=['air_store_id','dow'])\n",
    "tmp = data['tra'].groupby(['air_store_id','dow'], as_index=False)['visitors'].median().rename(columns={'visitors':'median_visitors'})\n",
    "stores = pd.merge(stores, tmp, how='left', on=['air_store_id','dow'])\n",
    "tmp = data['tra'].groupby(['air_store_id','dow'], as_index=False)['visitors'].max().rename(columns={'visitors':'max_visitors'})\n",
    "stores = pd.merge(stores, tmp, how='left', on=['air_store_id','dow'])\n",
    "tmp = data['tra'].groupby(['air_store_id','dow'], as_index=False)['visitors'].count().rename(columns={'visitors':'count_observations'})\n",
    "stores = pd.merge(stores, tmp, how='left', on=['air_store_id','dow']) \n",
    "\n",
    "stores = pd.merge(stores, data['as'], how='left', on=['air_store_id']) \n",
    "# NEW FEATURES FROM Georgii Vyshnia\n",
    "stores['air_genre_name'] = stores['air_genre_name'].map(lambda x: str(str(x).replace('/',' ')))\n",
    "stores['air_area_name'] = stores['air_area_name'].map(lambda x: str(str(x).replace('-',' ')))\n",
    "lbl = preprocessing.LabelEncoder()\n",
    "for i in range(10):\n",
    "    stores['air_genre_name'+str(i)] = lbl.fit_transform(stores['air_genre_name'].map(lambda x: str(str(x).split(' ')[i]) if len(str(x).split(' '))>i else ''))\n",
    "    stores['air_area_name'+str(i)] = lbl.fit_transform(stores['air_area_name'].map(lambda x: str(str(x).split(' ')[i]) if len(str(x).split(' '))>i else ''))\n",
    "stores['air_genre_name'] = lbl.fit_transform(stores['air_genre_name'])\n",
    "stores['air_area_name'] = lbl.fit_transform(stores['air_area_name'])\n",
    "\n",
    "data['hol']['visit_date'] = pd.to_datetime(data['hol']['visit_date'])\n",
    "data['hol']['day_of_week'] = lbl.fit_transform(data['hol']['day_of_week'])\n",
    "data['hol']['visit_date'] = data['hol']['visit_date'].dt.date\n",
    "train = pd.merge(data['tra'], data['hol'], how='left', on=['visit_date']) \n",
    "test = pd.merge(data['tes'], data['hol'], how='left', on=['visit_date']) \n",
    "\n",
    "train = pd.merge(train, stores, how='inner', on=['air_store_id','dow']) \n",
    "test = pd.merge(test, stores, how='left', on=['air_store_id','dow'])\n",
    "\n",
    "for df in ['ar','hr']:\n",
    "    train = pd.merge(train, data[df], how='left', on=['air_store_id','visit_date']) \n",
    "    test = pd.merge(test, data[df], how='left', on=['air_store_id','visit_date'])\n",
    "\n",
    "train['id'] = train.apply(lambda r: '_'.join([str(r['air_store_id']), str(r['visit_date'])]), axis=1)\n",
    "\n",
    "train['total_reserv_sum'] = train['rv1_x'] + train['rv1_y']\n",
    "train['total_reserv_mean'] = (train['rv2_x'] + train['rv2_y']) / 2\n",
    "train['total_reserv_dt_diff_mean'] = (train['rs2_x'] + train['rs2_y']) / 2\n",
    "\n",
    "test['total_reserv_sum'] = test['rv1_x'] + test['rv1_y']\n",
    "test['total_reserv_mean'] = (test['rv2_x'] + test['rv2_y']) / 2\n",
    "test['total_reserv_dt_diff_mean'] = (test['rs2_x'] + test['rs2_y']) / 2\n",
    "\n",
    "# NEW FEATURES FROM JMBULL\n",
    "train['date_int'] = train['visit_date'].apply(lambda x: x.strftime('%Y%m%d')).astype(int)\n",
    "test['date_int'] = test['visit_date'].apply(lambda x: x.strftime('%Y%m%d')).astype(int)\n",
    "train['var_max_lat'] = train['latitude'].max() - train['latitude']\n",
    "train['var_max_long'] = train['longitude'].max() - train['longitude']\n",
    "test['var_max_lat'] = test['latitude'].max() - test['latitude']\n",
    "test['var_max_long'] = test['longitude'].max() - test['longitude']\n",
    "\n",
    "# NEW FEATURES FROM Georgii Vyshnia\n",
    "train['lon_plus_lat'] = train['longitude'] + train['latitude'] \n",
    "test['lon_plus_lat'] = test['longitude'] + test['latitude']\n",
    "\n",
    "lbl = preprocessing.LabelEncoder()\n",
    "train['air_store_id2'] = lbl.fit_transform(train['air_store_id'])\n",
    "test['air_store_id2'] = lbl.transform(test['air_store_id'])\n",
    "\n",
    "col = [c for c in train if c not in ['id', 'air_store_id', 'visit_date','visitors']]\n",
    "train = train.fillna(-1)\n",
    "test = test.fillna(-1)"
   ]
  },
  {
   "cell_type": "code",
   "execution_count": 6,
   "metadata": {},
   "outputs": [
    {
     "data": {
      "text/plain": [
       "32019"
      ]
     },
     "execution_count": 6,
     "metadata": {},
     "output_type": "execute_result"
    }
   ],
   "source": [
    "len(test['id'])"
   ]
  },
  {
   "cell_type": "code",
   "execution_count": 7,
   "metadata": {},
   "outputs": [],
   "source": [
    "def RMSLE(y, pred):\n",
    "    return metrics.mean_squared_error(y, pred)**0.5\n",
    "\n"
   ]
  },
  {
   "cell_type": "code",
   "execution_count": 9,
   "metadata": {},
   "outputs": [],
   "source": [
    "value_col = ['holiday_flg','min_visitors','mean_visitors','median_visitors','max_visitors','count_observations',\n",
    "'rs1_x','rv1_x','rs2_x','rv2_x','rs1_y','rv1_y','rs2_y','rv2_y','total_reserv_sum','total_reserv_mean',\n",
    "'total_reserv_dt_diff_mean','date_int','var_max_lat','var_max_long','lon_plus_lat']\n",
    "\n",
    "nn_col = value_col + ['dow', 'year', 'month', 'air_store_id2', 'air_area_name', 'air_genre_name',\n",
    "'air_area_name0', 'air_area_name1', 'air_area_name2', 'air_area_name3', 'air_area_name4',\n",
    "'air_area_name5', 'air_area_name6', 'air_genre_name0', 'air_genre_name1',\n",
    "'air_genre_name2', 'air_genre_name3', 'air_genre_name4']\n",
    "\n",
    "\n",
    "X = train.copy()\n",
    "X_test = test[nn_col].copy()\n",
    "\n",
    "value_scaler = preprocessing.MinMaxScaler()\n",
    "for vcol in value_col:\n",
    "    X[vcol] = value_scaler.fit_transform(X[vcol].values.astype(np.float64).reshape(-1, 1))\n",
    "    X_test[vcol] = value_scaler.transform(X_test[vcol].values.astype(np.float64).reshape(-1, 1))\n",
    "\n"
   ]
  },
  {
   "cell_type": "code",
   "execution_count": 10,
   "metadata": {},
   "outputs": [
    {
     "name": "stdout",
     "output_type": "stream",
     "text": [
      "Train and test data prepared\n"
     ]
    }
   ],
   "source": [
    "X_train = X[nn_col].copy()\n",
    "Y_train = np.log(X['visitors'])\n",
    "nn_test = X_test[nn_col]\n",
    "print(\"Train and test data prepared\")"
   ]
  },
  {
   "cell_type": "code",
   "execution_count": 11,
   "metadata": {},
   "outputs": [
    {
     "data": {
      "text/plain": [
       "Index(['holiday_flg', 'min_visitors', 'mean_visitors', 'median_visitors',\n",
       "       'max_visitors', 'count_observations', 'rs1_x', 'rv1_x', 'rs2_x',\n",
       "       'rv2_x', 'rs1_y', 'rv1_y', 'rs2_y', 'rv2_y', 'total_reserv_sum',\n",
       "       'total_reserv_mean', 'total_reserv_dt_diff_mean', 'date_int',\n",
       "       'var_max_lat', 'var_max_long', 'lon_plus_lat', 'dow', 'year', 'month',\n",
       "       'air_store_id2', 'air_area_name', 'air_genre_name', 'air_area_name0',\n",
       "       'air_area_name1', 'air_area_name2', 'air_area_name3', 'air_area_name4',\n",
       "       'air_area_name5', 'air_area_name6', 'air_genre_name0',\n",
       "       'air_genre_name1', 'air_genre_name2', 'air_genre_name3',\n",
       "       'air_genre_name4'],\n",
       "      dtype='object')"
      ]
     },
     "execution_count": 11,
     "metadata": {},
     "output_type": "execute_result"
    }
   ],
   "source": [
    "X_test.columns"
   ]
  },
  {
   "cell_type": "code",
   "execution_count": 12,
   "metadata": {},
   "outputs": [
    {
     "data": {
      "text/plain": [
       "Index(['air_store_id', 'visit_date', 'visitors', 'dow', 'year', 'month',\n",
       "       'day_of_week', 'holiday_flg', 'min_visitors', 'mean_visitors',\n",
       "       'median_visitors', 'max_visitors', 'count_observations',\n",
       "       'air_genre_name', 'air_area_name', 'latitude', 'longitude',\n",
       "       'air_genre_name0', 'air_area_name0', 'air_genre_name1',\n",
       "       'air_area_name1', 'air_genre_name2', 'air_area_name2',\n",
       "       'air_genre_name3', 'air_area_name3', 'air_genre_name4',\n",
       "       'air_area_name4', 'air_genre_name5', 'air_area_name5',\n",
       "       'air_genre_name6', 'air_area_name6', 'air_genre_name7',\n",
       "       'air_area_name7', 'air_genre_name8', 'air_area_name8',\n",
       "       'air_genre_name9', 'air_area_name9', 'rs1_x', 'rv1_x', 'rs2_x', 'rv2_x',\n",
       "       'rs1_y', 'rv1_y', 'rs2_y', 'rv2_y', 'id', 'total_reserv_sum',\n",
       "       'total_reserv_mean', 'total_reserv_dt_diff_mean', 'date_int',\n",
       "       'var_max_lat', 'var_max_long', 'lon_plus_lat', 'air_store_id2'],\n",
       "      dtype='object')"
      ]
     },
     "execution_count": 12,
     "metadata": {},
     "output_type": "execute_result"
    }
   ],
   "source": [
    "train.columns"
   ]
  },
  {
   "cell_type": "code",
   "execution_count": 24,
   "metadata": {},
   "outputs": [],
   "source": [
    "val_idx=[0]"
   ]
  },
  {
   "cell_type": "code",
   "execution_count": 25,
   "metadata": {},
   "outputs": [],
   "source": [
    "categoryFields=[t for t in nn_col if t not in value_col]"
   ]
  },
  {
   "cell_type": "code",
   "execution_count": 26,
   "metadata": {},
   "outputs": [],
   "source": [
    "for v in categoryFields: X_train[v] = X_train[v].astype('category').cat.as_ordered()\n",
    "for u in categoryFields: X_test[u] = X_test[u].astype('category').cat.as_ordered()\n"
   ]
  },
  {
   "cell_type": "code",
   "execution_count": 27,
   "metadata": {},
   "outputs": [],
   "source": [
    "apply_cats(X_test, X_train)"
   ]
  },
  {
   "cell_type": "code",
   "execution_count": 28,
   "metadata": {},
   "outputs": [],
   "source": [
    "for v in value_col:\n",
    "    X_train[v] = X_train[v].astype('float32')\n",
    "    X_test[v] = X_test[v].astype('float32')"
   ]
  },
  {
   "cell_type": "code",
   "execution_count": 29,
   "metadata": {},
   "outputs": [],
   "source": [
    "X_train['visitors']=X['visitors']"
   ]
  },
  {
   "cell_type": "code",
   "execution_count": 30,
   "metadata": {},
   "outputs": [],
   "source": [
    "df, y, nas, mapper = proc_df(X_train, 'visitors', do_scale=True)\n",
    "yl = np.log(y)"
   ]
  },
  {
   "cell_type": "code",
   "execution_count": 31,
   "metadata": {},
   "outputs": [],
   "source": [
    "X_test['visitors']=0"
   ]
  },
  {
   "cell_type": "code",
   "execution_count": 32,
   "metadata": {},
   "outputs": [],
   "source": [
    "df_test, _, nas, mapper = proc_df(X_test, 'visitors', do_scale=True,\n",
    "                                  mapper=mapper, na_dict=nas)"
   ]
  },
  {
   "cell_type": "code",
   "execution_count": 33,
   "metadata": {},
   "outputs": [
    {
     "data": {
      "text/plain": [
       "holiday_flg                  float64\n",
       "min_visitors                 float64\n",
       "mean_visitors                float64\n",
       "median_visitors              float64\n",
       "max_visitors                 float64\n",
       "count_observations           float64\n",
       "rs1_x                        float64\n",
       "rv1_x                        float64\n",
       "rs2_x                        float64\n",
       "rv2_x                        float64\n",
       "rs1_y                        float64\n",
       "rv1_y                        float64\n",
       "rs2_y                        float64\n",
       "rv2_y                        float64\n",
       "total_reserv_sum             float64\n",
       "total_reserv_mean            float64\n",
       "total_reserv_dt_diff_mean    float64\n",
       "date_int                     float64\n",
       "var_max_lat                  float64\n",
       "var_max_long                 float64\n",
       "lon_plus_lat                 float64\n",
       "dow                             int8\n",
       "year                            int8\n",
       "month                           int8\n",
       "air_store_id2                  int16\n",
       "air_area_name                   int8\n",
       "air_genre_name                  int8\n",
       "air_area_name0                  int8\n",
       "air_area_name1                  int8\n",
       "air_area_name2                  int8\n",
       "air_area_name3                  int8\n",
       "air_area_name4                  int8\n",
       "air_area_name5                  int8\n",
       "air_area_name6                  int8\n",
       "air_genre_name0                 int8\n",
       "air_genre_name1                 int8\n",
       "air_genre_name2                 int8\n",
       "air_genre_name3                 int8\n",
       "air_genre_name4                 int8\n",
       "dtype: object"
      ]
     },
     "execution_count": 33,
     "metadata": {},
     "output_type": "execute_result"
    }
   ],
   "source": [
    "df.dtypes"
   ]
  },
  {
   "cell_type": "code",
   "execution_count": 34,
   "metadata": {},
   "outputs": [],
   "source": [
    "md = ColumnarModelData.from_data_frame(PATH, val_idx, df, yl.astype(np.float32), cat_flds=categoryFields,bs=256,\n",
    "                                       test_df=df_test)"
   ]
  },
  {
   "cell_type": "code",
   "execution_count": 35,
   "metadata": {},
   "outputs": [
    {
     "data": {
      "text/plain": [
       "['dow',\n",
       " 'year',\n",
       " 'month',\n",
       " 'air_store_id2',\n",
       " 'air_area_name',\n",
       " 'air_genre_name',\n",
       " 'air_area_name0',\n",
       " 'air_area_name1',\n",
       " 'air_area_name2',\n",
       " 'air_area_name3',\n",
       " 'air_area_name4',\n",
       " 'air_area_name5',\n",
       " 'air_area_name6',\n",
       " 'air_genre_name0',\n",
       " 'air_genre_name1',\n",
       " 'air_genre_name2',\n",
       " 'air_genre_name3',\n",
       " 'air_genre_name4']"
      ]
     },
     "execution_count": 35,
     "metadata": {},
     "output_type": "execute_result"
    }
   ],
   "source": [
    "categoryFields"
   ]
  },
  {
   "cell_type": "code",
   "execution_count": 36,
   "metadata": {},
   "outputs": [],
   "source": [
    "cat_sz = [(c, len(X_train[c].cat.categories)+1) for c in categoryFields]"
   ]
  },
  {
   "cell_type": "code",
   "execution_count": 37,
   "metadata": {},
   "outputs": [
    {
     "data": {
      "text/plain": [
       "holiday_flg                  float64\n",
       "min_visitors                 float64\n",
       "mean_visitors                float64\n",
       "median_visitors              float64\n",
       "max_visitors                 float64\n",
       "count_observations           float64\n",
       "rs1_x                        float64\n",
       "rv1_x                        float64\n",
       "rs2_x                        float64\n",
       "rv2_x                        float64\n",
       "rs1_y                        float64\n",
       "rv1_y                        float64\n",
       "rs2_y                        float64\n",
       "rv2_y                        float64\n",
       "total_reserv_sum             float64\n",
       "total_reserv_mean            float64\n",
       "total_reserv_dt_diff_mean    float64\n",
       "date_int                     float64\n",
       "var_max_lat                  float64\n",
       "var_max_long                 float64\n",
       "lon_plus_lat                 float64\n",
       "dow                             int8\n",
       "year                            int8\n",
       "month                           int8\n",
       "air_store_id2                  int16\n",
       "air_area_name                   int8\n",
       "air_genre_name                  int8\n",
       "air_area_name0                  int8\n",
       "air_area_name1                  int8\n",
       "air_area_name2                  int8\n",
       "air_area_name3                  int8\n",
       "air_area_name4                  int8\n",
       "air_area_name5                  int8\n",
       "air_area_name6                  int8\n",
       "air_genre_name0                 int8\n",
       "air_genre_name1                 int8\n",
       "air_genre_name2                 int8\n",
       "air_genre_name3                 int8\n",
       "air_genre_name4                 int8\n",
       "dtype: object"
      ]
     },
     "execution_count": 37,
     "metadata": {},
     "output_type": "execute_result"
    }
   ],
   "source": [
    "categoryFields\n",
    "df.dtypes"
   ]
  },
  {
   "cell_type": "code",
   "execution_count": 38,
   "metadata": {},
   "outputs": [
    {
     "data": {
      "text/plain": [
       "[('dow', 8),\n",
       " ('year', 3),\n",
       " ('month', 13),\n",
       " ('air_store_id2', 822),\n",
       " ('air_area_name', 104),\n",
       " ('air_genre_name', 15),\n",
       " ('air_area_name0', 10),\n",
       " ('air_area_name1', 8),\n",
       " ('air_area_name2', 54),\n",
       " ('air_area_name3', 9),\n",
       " ('air_area_name4', 102),\n",
       " ('air_area_name5', 11),\n",
       " ('air_area_name6', 3),\n",
       " ('air_genre_name0', 15),\n",
       " ('air_genre_name1', 11),\n",
       " ('air_genre_name2', 4),\n",
       " ('air_genre_name3', 2),\n",
       " ('air_genre_name4', 2)]"
      ]
     },
     "execution_count": 38,
     "metadata": {},
     "output_type": "execute_result"
    }
   ],
   "source": [
    "cat_sz"
   ]
  },
  {
   "cell_type": "code",
   "execution_count": 39,
   "metadata": {},
   "outputs": [],
   "source": [
    "emb_szs = [(c, min(50, (c+1)//2)) for _,c in cat_sz]"
   ]
  },
  {
   "cell_type": "code",
   "execution_count": 40,
   "metadata": {},
   "outputs": [
    {
     "data": {
      "text/plain": [
       "(0, 8.131808390846619)"
      ]
     },
     "execution_count": 40,
     "metadata": {},
     "output_type": "execute_result"
    }
   ],
   "source": [
    "max_log_y = np.max(yl)\n",
    "y_range = (0, max_log_y*1.2)\n",
    "y_range"
   ]
  },
  {
   "cell_type": "code",
   "execution_count": 41,
   "metadata": {},
   "outputs": [
    {
     "data": {
      "text/plain": [
       "[(8, 4),\n",
       " (3, 2),\n",
       " (13, 7),\n",
       " (822, 50),\n",
       " (104, 50),\n",
       " (15, 8),\n",
       " (10, 5),\n",
       " (8, 4),\n",
       " (54, 27),\n",
       " (9, 5),\n",
       " (102, 50),\n",
       " (11, 6),\n",
       " (3, 2),\n",
       " (15, 8),\n",
       " (11, 6),\n",
       " (4, 2),\n",
       " (2, 1),\n",
       " (2, 1)]"
      ]
     },
     "execution_count": 41,
     "metadata": {},
     "output_type": "execute_result"
    }
   ],
   "source": [
    "emb_szs"
   ]
  },
  {
   "cell_type": "code",
   "execution_count": 77,
   "metadata": {},
   "outputs": [],
   "source": [
    "m = md.get_learner(emb_szs, len(df.columns)-len(categoryFields),\n",
    "                   0.04, 1, [2500,1500], [0.001,0.01], y_range=y_range)\n",
    "lr = 1e-3"
   ]
  },
  {
   "cell_type": "code",
   "execution_count": 78,
   "metadata": {},
   "outputs": [
    {
     "data": {
      "application/vnd.jupyter.widget-view+json": {
       "model_id": "4246f97dd1e54702a93983241398ee4e",
       "version_major": 2,
       "version_minor": 0
      },
      "text/html": [
       "<p>Failed to display Jupyter Widget of type <code>HBox</code>.</p>\n",
       "<p>\n",
       "  If you're reading this message in the Jupyter Notebook or JupyterLab Notebook, it may mean\n",
       "  that the widgets JavaScript is still loading. If this message persists, it\n",
       "  likely means that the widgets JavaScript library is either not installed or\n",
       "  not enabled. See the <a href=\"https://ipywidgets.readthedocs.io/en/stable/user_install.html\">Jupyter\n",
       "  Widgets Documentation</a> for setup instructions.\n",
       "</p>\n",
       "<p>\n",
       "  If you're reading this message in another frontend (for example, a static\n",
       "  rendering on GitHub or <a href=\"https://nbviewer.jupyter.org/\">NBViewer</a>),\n",
       "  it may mean that your frontend doesn't currently support widgets.\n",
       "</p>\n"
      ],
      "text/plain": [
       "HBox(children=(IntProgress(value=0, description='Epoch', max=1), HTML(value='')))"
      ]
     },
     "metadata": {},
     "output_type": "display_data"
    },
    {
     "name": "stdout",
     "output_type": "stream",
     "text": [
      " 59%|█████▊    | 575/979 [00:05<00:03, 111.45it/s, loss=1.97] \n",
      "                                                             \r"
     ]
    }
   ],
   "source": [
    "m.lr_find()"
   ]
  },
  {
   "cell_type": "code",
   "execution_count": 79,
   "metadata": {},
   "outputs": [
    {
     "data": {
      "image/png": "[encoded data removed]",
      "text/plain": [
       "<matplotlib.figure.Figure at 0x7f0b03be3198>"
      ]
     },
     "metadata": {},
     "output_type": "display_data"
    }
   ],
   "source": [
    "m.sched.plot(100)"
   ]
  },
  {
   "cell_type": "code",
   "execution_count": 88,
   "metadata": {},
   "outputs": [
    {
     "data": {
      "application/vnd.jupyter.widget-view+json": {
       "model_id": "f634535a53744a74b48104a49aebef57",
       "version_major": 2,
       "version_minor": 0
      },
      "text/html": [
       "<p>Failed to display Jupyter Widget of type <code>HBox</code>.</p>\n",
       "<p>\n",
       "  If you're reading this message in the Jupyter Notebook or JupyterLab Notebook, it may mean\n",
       "  that the widgets JavaScript is still loading. If this message persists, it\n",
       "  likely means that the widgets JavaScript library is either not installed or\n",
       "  not enabled. See the <a href=\"https://ipywidgets.readthedocs.io/en/stable/user_install.html\">Jupyter\n",
       "  Widgets Documentation</a> for setup instructions.\n",
       "</p>\n",
       "<p>\n",
       "  If you're reading this message in another frontend (for example, a static\n",
       "  rendering on GitHub or <a href=\"https://nbviewer.jupyter.org/\">NBViewer</a>),\n",
       "  it may mean that your frontend doesn't currently support widgets.\n",
       "</p>\n"
      ],
      "text/plain": [
       "HBox(children=(IntProgress(value=0, description='Epoch', max=3), HTML(value='')))"
      ]
     },
     "metadata": {},
     "output_type": "display_data"
    },
    {
     "name": "stdout",
     "output_type": "stream",
     "text": [
      "epoch:   0, train_loss: 0.258409, val_loss: 0.013121, RMSLE: 0.114549\n",
      "epoch:   1, train_loss: 0.262441, val_loss: 0.022900, RMSLE: 0.151328\n",
      "epoch:   2, train_loss: 0.259015, val_loss: 0.061330, RMSLE: 0.247648\n",
      "\n"
     ]
    }
   ],
   "source": [
    "m.fit(lr, 3, metrics=[RMSLE])"
   ]
  },
  {
   "cell_type": "code",
   "execution_count": 81,
   "metadata": {},
   "outputs": [
    {
     "data": {
      "application/vnd.jupyter.widget-view+json": {
       "model_id": "f135824b28e44396a651db577e96e9a8",
       "version_major": 2,
       "version_minor": 0
      },
      "text/html": [
       "<p>Failed to display Jupyter Widget of type <code>HBox</code>.</p>\n",
       "<p>\n",
       "  If you're reading this message in the Jupyter Notebook or JupyterLab Notebook, it may mean\n",
       "  that the widgets JavaScript is still loading. If this message persists, it\n",
       "  likely means that the widgets JavaScript library is either not installed or\n",
       "  not enabled. See the <a href=\"https://ipywidgets.readthedocs.io/en/stable/user_install.html\">Jupyter\n",
       "  Widgets Documentation</a> for setup instructions.\n",
       "</p>\n",
       "<p>\n",
       "  If you're reading this message in another frontend (for example, a static\n",
       "  rendering on GitHub or <a href=\"https://nbviewer.jupyter.org/\">NBViewer</a>),\n",
       "  it may mean that your frontend doesn't currently support widgets.\n",
       "</p>\n"
      ],
      "text/plain": [
       "HBox(children=(IntProgress(value=0, description='Epoch', max=3), HTML(value='')))"
      ]
     },
     "metadata": {},
     "output_type": "display_data"
    },
    {
     "name": "stdout",
     "output_type": "stream",
     "text": [
      "epoch:   0, train_loss: 0.302729, val_loss: 0.011205, RMSLE: 0.105854\n",
      "epoch:   1, train_loss: 0.303925, val_loss: 0.025228, RMSLE: 0.158832\n",
      "epoch:   2, train_loss: 0.302663, val_loss: 0.051485, RMSLE: 0.226903\n",
      "\n"
     ]
    }
   ],
   "source": [
    "m.fit(lr, 3, metrics=[RMSLE],cycle_len=1)"
   ]
  },
  {
   "cell_type": "code",
   "execution_count": 90,
   "metadata": {},
   "outputs": [
    {
     "data": {
      "application/vnd.jupyter.widget-view+json": {
       "model_id": "cec97d01468c4bb68758dbef5cd5baf5",
       "version_major": 2,
       "version_minor": 0
      },
      "text/html": [
       "<p>Failed to display Jupyter Widget of type <code>HBox</code>.</p>\n",
       "<p>\n",
       "  If you're reading this message in the Jupyter Notebook or JupyterLab Notebook, it may mean\n",
       "  that the widgets JavaScript is still loading. If this message persists, it\n",
       "  likely means that the widgets JavaScript library is either not installed or\n",
       "  not enabled. See the <a href=\"https://ipywidgets.readthedocs.io/en/stable/user_install.html\">Jupyter\n",
       "  Widgets Documentation</a> for setup instructions.\n",
       "</p>\n",
       "<p>\n",
       "  If you're reading this message in another frontend (for example, a static\n",
       "  rendering on GitHub or <a href=\"https://nbviewer.jupyter.org/\">NBViewer</a>),\n",
       "  it may mean that your frontend doesn't currently support widgets.\n",
       "</p>\n"
      ],
      "text/plain": [
       "HBox(children=(IntProgress(value=0, description='Epoch', max=31), HTML(value='')))"
      ]
     },
     "metadata": {},
     "output_type": "display_data"
    },
    {
     "name": "stdout",
     "output_type": "stream",
     "text": [
      " 82%|████████▏ | 802/979 [00:07<00:01, 110.70it/s, loss=0.238]\n",
      " 85%|████████▍ | 830/979 [00:07<00:01, 111.51it/s, loss=0.241]"
     ]
    },
    {
     "name": "stderr",
     "output_type": "stream",
     "text": [
      "Exception in thread Thread-119:\n",
      "Traceback (most recent call last):\n",
      "  File \"/home/imtiaz/anaconda3/envs/fastai/lib/python3.6/threading.py\", line 916, in _bootstrap_inner\n",
      "    self.run()\n",
      "  File \"/home/imtiaz/anaconda3/envs/fastai/lib/python3.6/site-packages/tqdm/_tqdm.py\", line 144, in run\n",
      "    for instance in self.tqdm_cls._instances:\n",
      "  File \"/home/imtiaz/anaconda3/envs/fastai/lib/python3.6/_weakrefset.py\", line 60, in __iter__\n",
      "    for itemref in self.data:\n",
      "RuntimeError: Set changed size during iteration\n",
      "\n"
     ]
    },
    {
     "name": "stdout",
     "output_type": "stream",
     "text": [
      "epoch:   0, train_loss: 0.231902, val_loss: 0.032238, RMSLE: 0.179550\n",
      "epoch:   1, train_loss: 0.244473, val_loss: 0.024185, RMSLE: 0.155515\n",
      "epoch:   2, train_loss: 0.227937, val_loss: 0.012070, RMSLE: 0.109862\n",
      "epoch:   3, train_loss: 0.240584, val_loss: 0.027983, RMSLE: 0.167282\n",
      "epoch:   4, train_loss: 0.239576, val_loss: 0.017372, RMSLE: 0.131804\n",
      "epoch:   5, train_loss: 0.214013, val_loss: 0.009813, RMSLE: 0.099060\n",
      "epoch:   6, train_loss: 0.213050, val_loss: 0.012871, RMSLE: 0.113451\n",
      "epoch:   7, train_loss: 0.249189, val_loss: 0.065129, RMSLE: 0.255204\n",
      "epoch:   8, train_loss: 0.246434, val_loss: 0.037817, RMSLE: 0.194467\n",
      "epoch:   9, train_loss: 0.236969, val_loss: 0.021397, RMSLE: 0.146276\n",
      "epoch:  10, train_loss: 0.229280, val_loss: 0.011709, RMSLE: 0.108207\n",
      "epoch:  11, train_loss: 0.225062, val_loss: 0.000201, RMSLE: 0.014190\n",
      "epoch:  12, train_loss: 0.215211, val_loss: 0.003040, RMSLE: 0.055139\n",
      "epoch:  13, train_loss: 0.211212, val_loss: 0.002170, RMSLE: 0.046582\n",
      "epoch:  14, train_loss: 0.211300, val_loss: 0.001495, RMSLE: 0.038659\n",
      "epoch:  15, train_loss: 0.245712, val_loss: 0.013657, RMSLE: 0.116862\n",
      "epoch:  16, train_loss: 0.243813, val_loss: 0.031118, RMSLE: 0.176404\n",
      "epoch:  17, train_loss: 0.239174, val_loss: 0.000619, RMSLE: 0.024881\n",
      "epoch:  18, train_loss: 0.243209, val_loss: 0.000202, RMSLE: 0.014217\n",
      "epoch:  19, train_loss: 0.237924, val_loss: 0.000343, RMSLE: 0.018531\n",
      "epoch:  20, train_loss: 0.228195, val_loss: 0.000075, RMSLE: 0.008647\n",
      "epoch:  21, train_loss: 0.225630, val_loss: 0.000529, RMSLE: 0.023008\n",
      "epoch:  22, train_loss: 0.223316, val_loss: 0.001491, RMSLE: 0.038614\n",
      "epoch:  23, train_loss: 0.219366, val_loss: 0.004805, RMSLE: 0.069315\n",
      "epoch:  24, train_loss: 0.219456, val_loss: 0.000266, RMSLE: 0.016315\n",
      "epoch:  25, train_loss: 0.215386, val_loss: 0.000550, RMSLE: 0.023460\n",
      "epoch:  26, train_loss: 0.212388, val_loss: 0.002908, RMSLE: 0.053921\n",
      "epoch:  27, train_loss: 0.204790, val_loss: 0.006743, RMSLE: 0.082118\n",
      "epoch:  28, train_loss: 0.204695, val_loss: 0.005172, RMSLE: 0.071917\n",
      "epoch:  29, train_loss: 0.203625, val_loss: 0.007015, RMSLE: 0.083757\n",
      "epoch:  30, train_loss: 0.198949, val_loss: 0.007455, RMSLE: 0.086344\n",
      "\n"
     ]
    }
   ],
   "source": [
    "m.fit(lr, 5, metrics=[RMSLE], cycle_len=1,cycle_mult=2)"
   ]
  },
  {
   "cell_type": "code",
   "execution_count": 91,
   "metadata": {},
   "outputs": [],
   "source": [
    "pred_test=m.predict(True)\n",
    "pred_test = np.exp(pred_test)"
   ]
  },
  {
   "cell_type": "code",
   "execution_count": 95,
   "metadata": {},
   "outputs": [],
   "source": [
    "df_test['visitors']=np.round(pred_test)"
   ]
  },
  {
   "cell_type": "code",
   "execution_count": 96,
   "metadata": {},
   "outputs": [],
   "source": [
    "df_test['id']=test['id']"
   ]
  },
  {
   "cell_type": "code",
   "execution_count": 97,
   "metadata": {},
   "outputs": [
    {
     "data": {
      "text/html": [
       "<a href='data/Recruit/tmp/subRecruitVisitors.csv' target='_blank'>data/Recruit/tmp/subRecruitVisitors.csv</a><br>"
      ],
      "text/plain": [
       "/home/imtiaz/Desktop/fastai/courses/dl1/data/Recruit/tmp/subRecruitVisitors.csv"
      ]
     },
     "execution_count": 97,
     "metadata": {},
     "output_type": "execute_result"
    }
   ],
   "source": [
    "csv_fn=f'{PATH}tmp/subRecruitVisitors.csv'\n",
    "df_test[['id','visitors']].to_csv(csv_fn, index=False)\n",
    "FileLink(csv_fn)"
   ]
  },
  {
   "cell_type": "code",
   "execution_count": null,
   "metadata": {},
   "outputs": [],
   "source": []
  },
  {
   "cell_type": "code",
   "execution_count": null,
   "metadata": {},
   "outputs": [],
   "source": []
  }
 ],
 "metadata": {
  "kernelspec": {
   "display_name": "Python 3",
   "language": "python",
   "name": "python3"
  },
  "language_info": {
   "codemirror_mode": {
    "name": "ipython",
    "version": 3
   },
   "file_extension": ".py",
   "mimetype": "text/x-python",
   "name": "python",
   "nbconvert_exporter": "python",
   "pygments_lexer": "ipython3",
   "version": "3.6.4"
  }
 },
 "nbformat": 4,
 "nbformat_minor": 2
}
